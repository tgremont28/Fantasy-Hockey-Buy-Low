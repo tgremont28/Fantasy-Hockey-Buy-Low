{
 "cells": [
  {
   "cell_type": "code",
   "execution_count": 1,
   "metadata": {},
   "outputs": [],
   "source": [
    "import pandas as pd\n",
    "import numpy as np"
   ]
  },
  {
   "cell_type": "code",
   "execution_count": 2,
   "metadata": {},
   "outputs": [],
   "source": [
    "on_ice = pd.read_csv('BuyLow.csv')\n",
    "on_ice_data = pd.DataFrame(on_ice)"
   ]
  },
  {
   "cell_type": "code",
   "execution_count": 3,
   "metadata": {},
   "outputs": [
    {
     "data": {
      "text/plain": [
       "['Unnamed: 0',\n",
       " 'Player',\n",
       " 'Team',\n",
       " 'Position',\n",
       " 'GP',\n",
       " 'TOI',\n",
       " 'CF',\n",
       " 'CA',\n",
       " 'CF%',\n",
       " 'FF',\n",
       " 'FA',\n",
       " 'FF%',\n",
       " 'SF',\n",
       " 'SA',\n",
       " 'SF%',\n",
       " 'GF',\n",
       " 'GA',\n",
       " 'GF%',\n",
       " 'xGF',\n",
       " 'xGA',\n",
       " 'xGF%',\n",
       " 'SCF',\n",
       " 'SCA',\n",
       " 'SCF%',\n",
       " 'HDCF',\n",
       " 'HDCA',\n",
       " 'HDCF%',\n",
       " 'HDGF',\n",
       " 'HDGA',\n",
       " 'HDGF%',\n",
       " 'MDCF',\n",
       " 'MDCA',\n",
       " 'MDCF%',\n",
       " 'MDGF',\n",
       " 'MDGA',\n",
       " 'MDGF%',\n",
       " 'LDCF',\n",
       " 'LDCA',\n",
       " 'LDCF%',\n",
       " 'LDGF',\n",
       " 'LDGA',\n",
       " 'LDGF%',\n",
       " 'On-Ice SH%',\n",
       " 'On-Ice SV%',\n",
       " 'PDO',\n",
       " 'Off.\\xa0Zone Starts',\n",
       " 'Neu.\\xa0Zone Starts',\n",
       " 'Def.\\xa0Zone Starts',\n",
       " 'On\\xa0The\\xa0Fly Starts',\n",
       " 'Off.\\xa0Zone Start %',\n",
       " 'Off.\\xa0Zone Faceoffs',\n",
       " 'Neu.\\xa0Zone Faceoffs',\n",
       " 'Def.\\xa0Zone Faceoffs',\n",
       " 'Off.\\xa0Zone Faceoff %']"
      ]
     },
     "execution_count": 3,
     "metadata": {},
     "output_type": "execute_result"
    }
   ],
   "source": [
    "list(on_ice_data.columns)"
   ]
  },
  {
   "cell_type": "code",
   "execution_count": 4,
   "metadata": {},
   "outputs": [],
   "source": [
    "cols = ['Player', 'Team','Position','GP','SCF','On-Ice SH%']"
   ]
  },
  {
   "cell_type": "code",
   "execution_count": 5,
   "metadata": {},
   "outputs": [],
   "source": [
    "on_ice_data = on_ice_data.loc[:, cols]\n",
    "#Filters for just columns I want"
   ]
  },
  {
   "cell_type": "code",
   "execution_count": 6,
   "metadata": {},
   "outputs": [
    {
     "data": {
      "text/plain": [
       "(704, 6)"
      ]
     },
     "execution_count": 6,
     "metadata": {},
     "output_type": "execute_result"
    }
   ],
   "source": [
    "on_ice_data.shape"
   ]
  },
  {
   "cell_type": "code",
   "execution_count": 7,
   "metadata": {},
   "outputs": [],
   "source": [
    "on_ice_data = on_ice_data[on_ice_data['Position']!='D']\n",
    "#Filters for just forwards"
   ]
  },
  {
   "cell_type": "code",
   "execution_count": 8,
   "metadata": {},
   "outputs": [
    {
     "data": {
      "text/plain": [
       "(461, 6)"
      ]
     },
     "execution_count": 8,
     "metadata": {},
     "output_type": "execute_result"
    }
   ],
   "source": [
    "on_ice_data.shape"
   ]
  },
  {
   "cell_type": "code",
   "execution_count": 9,
   "metadata": {},
   "outputs": [],
   "source": [
    "on_ice_data['SCF_per_GP'] = on_ice_data['SCF']/on_ice_data['GP']"
   ]
  },
  {
   "cell_type": "code",
   "execution_count": 10,
   "metadata": {},
   "outputs": [
    {
     "data": {
      "text/plain": [
       "GP             37.696312\n",
       "SCF           287.924078\n",
       "On-Ice SH%      9.133492\n",
       "SCF_per_GP      7.389727\n",
       "dtype: float64"
      ]
     },
     "execution_count": 10,
     "metadata": {},
     "output_type": "execute_result"
    }
   ],
   "source": [
    "on_ice_data.mean()"
   ]
  },
  {
   "cell_type": "code",
   "execution_count": 11,
   "metadata": {},
   "outputs": [
    {
     "data": {
      "text/plain": [
       "GP              9.607004\n",
       "SCF           146.617740\n",
       "On-Ice SH%      2.624000\n",
       "SCF_per_GP      2.908290\n",
       "dtype: float64"
      ]
     },
     "execution_count": 11,
     "metadata": {},
     "output_type": "execute_result"
    }
   ],
   "source": [
    "on_ice_data.std()"
   ]
  },
  {
   "cell_type": "code",
   "execution_count": 12,
   "metadata": {},
   "outputs": [],
   "source": [
    "def value(metric, x, y):\n",
    "    if metric < x:\n",
    "        return 'Buy'\n",
    "    if metric > y:\n",
    "        return 'Sell'\n",
    "    else:\n",
    "        return 'Hold'\n",
    "        "
   ]
  },
  {
   "cell_type": "code",
   "execution_count": 13,
   "metadata": {
    "scrolled": true
   },
   "outputs": [
    {
     "name": "stdout",
     "output_type": "stream",
     "text": [
      "9.133492407809117\n",
      "11.757492042130831\n"
     ]
    }
   ],
   "source": [
    "shooting_mean = on_ice_data['On-Ice SH%'].mean()\n",
    "below_avg = shooting_mean\n",
    "plus_one_std = shooting_mean + on_ice_data['On-Ice SH%'].std()\n",
    "\n",
    "print(below_avg)\n",
    "print(plus_one_std)"
   ]
  },
  {
   "cell_type": "code",
   "execution_count": 14,
   "metadata": {},
   "outputs": [],
   "source": [
    "shooting_apply = on_ice_data['On-Ice SH%'].apply(value, x=below_avg, y=plus_one_std)"
   ]
  },
  {
   "cell_type": "code",
   "execution_count": 15,
   "metadata": {},
   "outputs": [
    {
     "data": {
      "text/plain": [
       "Buy     241\n",
       "Hold    135\n",
       "Sell     85\n",
       "Name: On-Ice SH%, dtype: int64"
      ]
     },
     "execution_count": 15,
     "metadata": {},
     "output_type": "execute_result"
    }
   ],
   "source": [
    "shooting_apply.value_counts()"
   ]
  },
  {
   "cell_type": "code",
   "execution_count": 16,
   "metadata": {},
   "outputs": [],
   "source": [
    "buy_low = on_ice_data[shooting_apply == 'Buy']\n",
    "sell_high = on_ice_data[shooting_apply == 'Sell']"
   ]
  },
  {
   "cell_type": "code",
   "execution_count": 17,
   "metadata": {},
   "outputs": [
    {
     "name": "stdout",
     "output_type": "stream",
     "text": [
      "            Player Team Position  GP  SCF  On-Ice SH%  SCF_per_GP\n",
      "1  Jonah Gadjovich  S.J        L  26   87        2.00    3.346154\n",
      "2    Nate Thompson  PHI        C  19   61        2.67    3.210526\n",
      "3       Jay Beagle  ARI        C  21   82        2.73    3.904762\n",
      "5    Lane Pederson  S.J        C  24   95        2.97    3.958333\n",
      "7  Cedric Paquette  MTL        C  24   62        3.37    2.583333\n",
      "                  Player Team Position  GP  SCF  On-Ice SH%  SCF_per_GP\n",
      "596       Leon Draisaitl  EDM        C  47  645       11.82   13.723404\n",
      "597      Auston Matthews  TOR        C  42  667       11.85   15.880952\n",
      "598      Kieffer Bellows  NYI        L  20  114       11.88    5.700000\n",
      "600  Chandler Stephenson  VGK        C  45  445       11.93    9.888889\n",
      "601      Mitchell Marner  TOR        R  36  543       11.94   15.083333\n"
     ]
    }
   ],
   "source": [
    "print(buy_low.head(5))\n",
    "print(sell_high.head(5))"
   ]
  },
  {
   "cell_type": "code",
   "execution_count": 18,
   "metadata": {},
   "outputs": [],
   "source": [
    "buy_low = buy_low.sort_values(by='SCF_per_GP', ascending=False)"
   ]
  },
  {
   "cell_type": "code",
   "execution_count": 19,
   "metadata": {},
   "outputs": [],
   "source": [
    "sell_high = sell_high.sort_values(by='SCF_per_GP', ascending=True)"
   ]
  },
  {
   "cell_type": "code",
   "execution_count": 20,
   "metadata": {},
   "outputs": [
    {
     "name": "stdout",
     "output_type": "stream",
     "text": [
      "                    Player Team Position  GP  SCF  On-Ice SH%  SCF_per_GP\n",
      "283       Viktor Arvidsson  L.A        L  41  508        8.40   12.390244\n",
      "321           Anze Kopitar  L.A        C  48  586        8.64   12.208333\n",
      "350         Nikolaj Ehlers  WPG        L  34  394        8.92   11.588235\n",
      "287           Brock Boeser  VAN        R  43  492        8.42   11.441860\n",
      "302            Andrew Copp  WPG        C  46  526        8.50   11.434783\n",
      "346              Bo Horvat  VAN        C  44  502        8.89   11.409091\n",
      "367       Elias Pettersson  VAN        C  49  536        9.09   10.938776\n",
      "234           Alex Iafallo  L.A        L  46  503        7.97   10.934783\n",
      "326           Adrian Kempe  L.A        C  45  487        8.67   10.822222\n",
      "263        Phillip Danault  L.A        C  46  497        8.20   10.804348\n",
      "274  Jonathan Marchessault  VGK        C  43  453        8.30   10.534884\n",
      "299       William Karlsson  VGK        C  33  341        8.48   10.333333\n",
      "291         Sean Couturier  PHI        C  29  294        8.43   10.137931\n",
      "288            Tim Stützle  OTT        L  45  456        8.42   10.133333\n",
      "334          Jordan Eberle  SEA        R  46  454        8.72    9.869565\n",
      "368           Brock Nelson  NYI        C  34  334        9.09    9.823529\n",
      "222            Pavel Zacha  N.J        C  47  455        7.84    9.680851\n",
      "330         Travis Konecny  PHI        R  46  434        8.69    9.434783\n",
      "163            Nick Suzuki  MTL        C  48  448        7.25    9.333333\n",
      "215         Tanner Pearson  VAN        L  45  419        7.74    9.311111\n",
      "125        Mikael Backlund  CGY        C  46  428        6.88    9.304348\n",
      "267        Jonathan Dahlen  S.J        C  42  382        8.23    9.095238\n",
      "135            Craig Smith  BOS        C  40  362        6.94    9.050000\n",
      "372        Evgenii Dadonov  VGK        R  46  413        9.11    8.978261\n",
      "340           Jason Zucker  PIT        L  31  277        8.78    8.935484\n",
      "327         Jonathan Toews  CHI        C  43  381        8.67    8.860465\n",
      "304             Jamie Benn  DAL        L  47  416        8.51    8.851064\n",
      "278      Alexander Radulov  DAL        R  41  361        8.31    8.804878\n",
      "249    Anthony Beauvillier  NYI        L  40  352        8.11    8.800000\n",
      "154           Sean Monahan  CGY        C  46  401        7.17    8.717391\n",
      "                  Player      Team Position  GP  SCF  On-Ice SH%  SCF_per_GP\n",
      "635         Brett Howden       VGK        C  35  159       12.65    4.542857\n",
      "643          Victor Rask       MIN        C  29  133       12.82    4.586207\n",
      "616      Oskar Sundqvist       STL        C  31  146       12.28    4.709677\n",
      "619          Rem Pitlick  MIN, MTL        C  32  164       12.31    5.125000\n",
      "667      Jordan Greenway       MIN        L  37  204       13.33    5.513514\n",
      "605    Alex Barré-Boulet  SEA, T.B        C  16   89       12.00    5.562500\n",
      "598      Kieffer Bellows       NYI        L  20  114       11.88    5.700000\n",
      "612     Alexandre Texier       CBJ        C  36  210       12.24    5.833333\n",
      "686       Nathan Bastian  N.J, SEA        R  43  256       13.73    5.953488\n",
      "626          Travis Boyd       ARI        C  40  259       12.41    6.475000\n",
      "618       Gustav Nyquist       CBJ        C  47  330       12.30    7.021277\n",
      "703      Mason Marchment       FLA        L  22  157       17.07    7.136364\n",
      "649       Marcus Foligno       MIN        L  40  296       12.97    7.400000\n",
      "628    Alexander Kerfoot       TOR        C  45  342       12.46    7.600000\n",
      "617         Sonny Milano       ANA        L  36  300       12.30    8.333333\n",
      "689        Anton Lundell       FLA        C  43  363       14.05    8.441860\n",
      "655       Ivan Barbashev       STL        C  46  389       13.08    8.456522\n",
      "624        Ilya Mikheyev       TOR        R  16  137       12.41    8.562500\n",
      "650         Patrik Laine       CBJ        L  28  244       12.98    8.714286\n",
      "634           Troy Terry       ANA        R  44  384       12.62    8.727273\n",
      "632        Ryan Johansen       NSH        C  46  409       12.61    8.891304\n",
      "606        Tage Thompson       BUF        R  44  396       12.01    9.000000\n",
      "699       Brayden Schenn       STL        C  31  283       14.58    9.129032\n",
      "697         Ryan Hartman       MIN        R  44  406       14.52    9.227273\n",
      "702           Matt Boldy       MIN        L  13  123       16.79    9.461538\n",
      "625        Adam Henrique       ANA        C  28  269       12.41    9.607143\n",
      "672           Tom Wilson       WSH        R  47  456       13.45    9.702128\n",
      "614     Andre Burakovsky       COL        L  45  442       12.27    9.822222\n",
      "646    Valeri Nichushkin       COL        R  31  305       12.91    9.838710\n",
      "600  Chandler Stephenson       VGK        C  45  445       11.93    9.888889\n"
     ]
    }
   ],
   "source": [
    "print(buy_low.head(30))\n",
    "print(sell_high.head(30))"
   ]
  },
  {
   "cell_type": "code",
   "execution_count": null,
   "metadata": {},
   "outputs": [],
   "source": []
  }
 ],
 "metadata": {
  "kernelspec": {
   "display_name": "Python 3",
   "language": "python",
   "name": "python3"
  },
  "language_info": {
   "codemirror_mode": {
    "name": "ipython",
    "version": 3
   },
   "file_extension": ".py",
   "mimetype": "text/x-python",
   "name": "python",
   "nbconvert_exporter": "python",
   "pygments_lexer": "ipython3",
   "version": "3.7.6"
  }
 },
 "nbformat": 4,
 "nbformat_minor": 4
}
